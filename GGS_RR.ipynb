{
 "cells": [
  {
   "cell_type": "code",
   "execution_count": 240,
   "id": "82ea1de8-28fb-41aa-a81d-0c2393515031",
   "metadata": {},
   "outputs": [],
   "source": [
    "import numpy as np\n",
    "import matplotlib.pyplot as plt\n",
    "import pandas as pd\n",
    "from scipy.optimize import curve_fit\n",
    "from math import e\n",
    "ln = np.log  "
   ]
  },
  {
   "cell_type": "code",
   "execution_count": 241,
   "id": "7187a856-4665-4611-a493-5ef417942c09",
   "metadata": {},
   "outputs": [],
   "source": [
    "plt.style.use(['science', 'notebook', 'grid'])"
   ]
  },
  {
   "cell_type": "code",
   "execution_count": 242,
   "id": "3129d501-6ff9-48c5-97b5-232b0bb0ec9f",
   "metadata": {},
   "outputs": [],
   "source": [
    "data=pd.read_csv(\"C:/Users/brint/Documents/GitHub/GS_RR/data.csv\")"
   ]
  },
  {
   "cell_type": "code",
   "execution_count": 243,
   "id": "f5ed8521-7d64-4dbe-8833-add0c203d1e6",
   "metadata": {},
   "outputs": [
    {
     "data": {
      "text/html": [
       "<div>\n",
       "<style scoped>\n",
       "    .dataframe tbody tr th:only-of-type {\n",
       "        vertical-align: middle;\n",
       "    }\n",
       "\n",
       "    .dataframe tbody tr th {\n",
       "        vertical-align: top;\n",
       "    }\n",
       "\n",
       "    .dataframe thead th {\n",
       "        text-align: right;\n",
       "    }\n",
       "</style>\n",
       "<table border=\"1\" class=\"dataframe\">\n",
       "  <thead>\n",
       "    <tr style=\"text-align: right;\">\n",
       "      <th></th>\n",
       "      <th>Mesh size (mm)</th>\n",
       "      <th>Fraction (g)</th>\n",
       "      <th>Fraction (%)</th>\n",
       "      <th>Cumulative % weight passing</th>\n",
       "    </tr>\n",
       "  </thead>\n",
       "  <tbody>\n",
       "    <tr>\n",
       "      <th>0</th>\n",
       "      <td>0.71</td>\n",
       "      <td>1.0</td>\n",
       "      <td>1.39</td>\n",
       "      <td>1.39</td>\n",
       "    </tr>\n",
       "    <tr>\n",
       "      <th>1</th>\n",
       "      <td>1.00</td>\n",
       "      <td>1.7</td>\n",
       "      <td>2.36</td>\n",
       "      <td>3.75</td>\n",
       "    </tr>\n",
       "    <tr>\n",
       "      <th>2</th>\n",
       "      <td>1.40</td>\n",
       "      <td>8.6</td>\n",
       "      <td>11.94</td>\n",
       "      <td>15.69</td>\n",
       "    </tr>\n",
       "    <tr>\n",
       "      <th>3</th>\n",
       "      <td>2.00</td>\n",
       "      <td>7.2</td>\n",
       "      <td>10.00</td>\n",
       "      <td>25.69</td>\n",
       "    </tr>\n",
       "    <tr>\n",
       "      <th>4</th>\n",
       "      <td>2.80</td>\n",
       "      <td>17.7</td>\n",
       "      <td>24.58</td>\n",
       "      <td>50.28</td>\n",
       "    </tr>\n",
       "    <tr>\n",
       "      <th>5</th>\n",
       "      <td>4.00</td>\n",
       "      <td>20.5</td>\n",
       "      <td>28.47</td>\n",
       "      <td>78.75</td>\n",
       "    </tr>\n",
       "    <tr>\n",
       "      <th>6</th>\n",
       "      <td>5.60</td>\n",
       "      <td>11.4</td>\n",
       "      <td>15.83</td>\n",
       "      <td>94.58</td>\n",
       "    </tr>\n",
       "    <tr>\n",
       "      <th>7</th>\n",
       "      <td>8.00</td>\n",
       "      <td>2.3</td>\n",
       "      <td>3.19</td>\n",
       "      <td>97.78</td>\n",
       "    </tr>\n",
       "    <tr>\n",
       "      <th>8</th>\n",
       "      <td>11.20</td>\n",
       "      <td>1.6</td>\n",
       "      <td>2.22</td>\n",
       "      <td>100.00</td>\n",
       "    </tr>\n",
       "  </tbody>\n",
       "</table>\n",
       "</div>"
      ],
      "text/plain": [
       "   Mesh size (mm)  Fraction (g)  Fraction (%)  Cumulative % weight passing\n",
       "0            0.71           1.0          1.39                         1.39\n",
       "1            1.00           1.7          2.36                         3.75\n",
       "2            1.40           8.6         11.94                        15.69\n",
       "3            2.00           7.2         10.00                        25.69\n",
       "4            2.80          17.7         24.58                        50.28\n",
       "5            4.00          20.5         28.47                        78.75\n",
       "6            5.60          11.4         15.83                        94.58\n",
       "7            8.00           2.3          3.19                        97.78\n",
       "8           11.20           1.6          2.22                       100.00"
      ]
     },
     "execution_count": 243,
     "metadata": {},
     "output_type": "execute_result"
    }
   ],
   "source": [
    "data"
   ]
  },
  {
   "cell_type": "code",
   "execution_count": 244,
   "id": "9ec9cbe2-4a2f-41b9-9efe-1ef99d63795d",
   "metadata": {},
   "outputs": [],
   "source": [
    "np_arr=data.values\n",
    "x_data= np_arr[:,0]\n",
    "y_data= np_arr[:,3]"
   ]
  },
  {
   "cell_type": "code",
   "execution_count": 245,
   "id": "c69155e8-e1b7-4df2-be72-3a0e05b0b45e",
   "metadata": {},
   "outputs": [
    {
     "data": {
      "text/plain": [
       "array([ 0.71,  1.  ,  1.4 ,  2.  ,  2.8 ,  4.  ,  5.6 ,  8.  , 11.2 ])"
      ]
     },
     "execution_count": 245,
     "metadata": {},
     "output_type": "execute_result"
    }
   ],
   "source": [
    "x_data"
   ]
  },
  {
   "cell_type": "code",
   "execution_count": 246,
   "id": "3c286435-6b51-423c-b6be-b9b4880928c4",
   "metadata": {},
   "outputs": [
    {
     "data": {
      "text/plain": [
       "array([  1.39,   3.75,  15.69,  25.69,  50.28,  78.75,  94.58,  97.78,\n",
       "       100.  ])"
      ]
     },
     "execution_count": 246,
     "metadata": {},
     "output_type": "execute_result"
    }
   ],
   "source": [
    "y_data"
   ]
  },
  {
   "cell_type": "code",
   "execution_count": 262,
   "id": "a7160733-b9b1-423e-a873-e15f6d6a2736",
   "metadata": {},
   "outputs": [
    {
     "data": {
      "image/png": "[encoded data removed]",
      "text/plain": [
       "<Figure size 576x432 with 1 Axes>"
      ]
     },
     "metadata": {
      "needs_background": "light"
     },
     "output_type": "display_data"
    }
   ],
   "source": [
    "plt.scatter(x_data,y_data)\n",
    "plt.show()"
   ]
  },
  {
   "cell_type": "markdown",
   "id": "216c67a4-84ac-4200-b0a7-2189f2129c32",
   "metadata": {},
   "source": [
    "**GGS estimation"
   ]
  },
  {
   "cell_type": "code",
   "execution_count": 268,
   "id": "5114df75-65ec-483d-a7ee-300ba7419e39",
   "metadata": {},
   "outputs": [],
   "source": [
    "# https://docs.scipy.org/doc/scipy/reference/generated/scipy.optimize.curve_fit.html\n",
    "def GGS(x,a,k):\n",
    "    return ((x/k)**a)"
   ]
  },
  {
   "cell_type": "code",
   "execution_count": 275,
   "id": "47944485-1a0f-4f08-af8b-a51e6b3143d2",
   "metadata": {},
   "outputs": [
    {
     "name": "stderr",
     "output_type": "stream",
     "text": [
      "C:\\CONDA_~1/ipykernel_19548/675661907.py:3: RuntimeWarning: invalid value encountered in power\n",
      "  return ((x/k)**a)\n"
     ]
    }
   ],
   "source": [
    "popt,pcov=curve_fit(GGS,x_data,y_data,p0=[15,1.5],maxfev=5000)"
   ]
  },
  {
   "cell_type": "code",
   "execution_count": 276,
   "id": "5cb26e60-8d1e-415d-a6fd-7b0f0face463",
   "metadata": {},
   "outputs": [
    {
     "data": {
      "text/plain": [
       "array([0.70686281, 0.01303962])"
      ]
     },
     "execution_count": 276,
     "metadata": {},
     "output_type": "execute_result"
    }
   ],
   "source": [
    "popt"
   ]
  },
  {
   "cell_type": "code",
   "execution_count": 277,
   "id": "6b359914-cc61-4b31-9705-6717afac7083",
   "metadata": {},
   "outputs": [
    {
     "data": {
      "text/plain": [
       "array([[0.02280423, 0.00262791],\n",
       "       [0.00262791, 0.00030569]])"
      ]
     },
     "execution_count": 277,
     "metadata": {},
     "output_type": "execute_result"
    }
   ],
   "source": [
    "pcov"
   ]
  },
  {
   "cell_type": "code",
   "execution_count": 278,
   "id": "73d7d7ec-2564-46b7-b20a-816ba7564929",
   "metadata": {},
   "outputs": [],
   "source": [
    "a_opt,k_opt =popt\n",
    "x_model=np.linspace(min(x_data),max(x_data),500)\n",
    "y_model=GGS(x_model,a_opt,k_opt)"
   ]
  },
  {
   "cell_type": "code",
   "execution_count": 279,
   "id": "0659d3be-bf38-482a-a4af-6fe97f217cd2",
   "metadata": {},
   "outputs": [
    {
     "data": {
      "image/png": "[encoded data removed]",
      "text/plain": [
       "<Figure size 576x432 with 1 Axes>"
      ]
     },
     "metadata": {
      "needs_background": "light"
     },
     "output_type": "display_data"
    }
   ],
   "source": [
    "plt.scatter(x_data,y_data)\n",
    "plt.plot(x_model,y_model,color='r')\n",
    "plt.show()"
   ]
  },
  {
   "cell_type": "code",
   "execution_count": 280,
   "id": "cff86d82-f803-40e4-8b1d-8008c5ac4ae3",
   "metadata": {},
   "outputs": [
    {
     "data": {
      "text/plain": [
       "array([0.70686281, 0.01303962])"
      ]
     },
     "execution_count": 280,
     "metadata": {},
     "output_type": "execute_result"
    }
   ],
   "source": [
    "# Optimal values for the parameters so that the sum of the squared residuals of f(xdata, *popt) - ydata is minimized.\n",
    "popt"
   ]
  },
  {
   "cell_type": "code",
   "execution_count": 281,
   "id": "14eb3542-df57-4a65-96b5-e24f045d083b",
   "metadata": {},
   "outputs": [
    {
     "data": {
      "text/plain": [
       "array([[0.02280423, 0.00262791],\n",
       "       [0.00262791, 0.00030569]])"
      ]
     },
     "execution_count": 281,
     "metadata": {},
     "output_type": "execute_result"
    }
   ],
   "source": [
    "# The estimated covariance of popt. The diagonals provide the variance of the parameter estimate.\n",
    "pcov"
   ]
  },
  {
   "cell_type": "code",
   "execution_count": 282,
   "id": "61944ee9-726f-4043-bb5d-0ddaf3ef468e",
   "metadata": {},
   "outputs": [
    {
     "data": {
      "text/plain": [
       "array([0.15101069, 0.01748393])"
      ]
     },
     "execution_count": 282,
     "metadata": {},
     "output_type": "execute_result"
    }
   ],
   "source": [
    "# To compute one standard deviation errors on the parameters use \n",
    "perr = np.sqrt(np.diag(pcov))\n",
    "perr"
   ]
  },
  {
   "cell_type": "markdown",
   "id": "d754dc0c-38a4-4173-a9d4-4364d039bfe8",
   "metadata": {},
   "source": [
    "**RR estimation"
   ]
  },
  {
   "cell_type": "code",
   "execution_count": 295,
   "id": "941b9185-45eb-4253-9b21-af691e0482d7",
   "metadata": {},
   "outputs": [],
   "source": [
    "# https://docs.scipy.org/doc/scipy/reference/generated/scipy.optimize.curve_fit.html\n",
    "def RR(x,m,k):\n",
    "    return e**((x/k)**m)"
   ]
  },
  {
   "cell_type": "code",
   "execution_count": 296,
   "id": "2e8f1b3a-43f5-4f54-bb4d-c84b4d5933f3",
   "metadata": {},
   "outputs": [
    {
     "name": "stderr",
     "output_type": "stream",
     "text": [
      "C:\\CONDA_~1/ipykernel_19548/2667049850.py:3: RuntimeWarning: invalid value encountered in power\n",
      "  return e**((x/k)**m)\n"
     ]
    }
   ],
   "source": [
    "popt_2,pcov_2=curve_fit(RR,x_data,y_data,maxfev=1000)"
   ]
  },
  {
   "cell_type": "code",
   "execution_count": 297,
   "id": "284ba965-757d-4ecf-8fc9-ef32e5182947",
   "metadata": {},
   "outputs": [
    {
     "data": {
      "text/plain": [
       "array([0.16528668, 0.00087548])"
      ]
     },
     "execution_count": 297,
     "metadata": {},
     "output_type": "execute_result"
    }
   ],
   "source": [
    "popt_2"
   ]
  },
  {
   "cell_type": "code",
   "execution_count": 298,
   "id": "dbc6e2bc-3a84-45b3-846c-c3227a9c2aa9",
   "metadata": {},
   "outputs": [
    {
     "data": {
      "image/png": "[encoded data removed]",
      "text/plain": [
       "<Figure size 576x432 with 1 Axes>"
      ]
     },
     "metadata": {
      "needs_background": "light"
     },
     "output_type": "display_data"
    }
   ],
   "source": [
    "a_opt,k_opt =popt_2\n",
    "x_model=np.linspace(min(x_data),max(x_data),500)\n",
    "y_model=RR(x_model,a_opt,k_opt)\n",
    "plt.scatter(x_data,y_data)\n",
    "plt.plot(x_model,y_model,color='r')\n",
    "plt.show()"
   ]
  },
  {
   "cell_type": "code",
   "execution_count": null,
   "id": "3ebfc2b6-7046-4bf9-a4ca-0003f52ce032",
   "metadata": {},
   "outputs": [],
   "source": []
  }
 ],
 "metadata": {
  "kernelspec": {
   "display_name": "Python 3 (ipykernel)",
   "language": "python",
   "name": "python3"
  },
  "language_info": {
   "codemirror_mode": {
    "name": "ipython",
    "version": 3
   },
   "file_extension": ".py",
   "mimetype": "text/x-python",
   "name": "python",
   "nbconvert_exporter": "python",
   "pygments_lexer": "ipython3",
   "version": "3.9.7"
  }
 },
 "nbformat": 4,
 "nbformat_minor": 5
}
